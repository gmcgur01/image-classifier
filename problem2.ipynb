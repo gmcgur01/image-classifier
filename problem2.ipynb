{
 "cells": [
  {
   "cell_type": "markdown",
   "metadata": {},
   "source": [
    "Part 2: Custom"
   ]
  },
  {
   "cell_type": "markdown",
   "metadata": {},
   "source": [
    "Import Libraries"
   ]
  },
  {
   "cell_type": "code",
   "execution_count": 1,
   "metadata": {},
   "outputs": [],
   "source": [
    "import os\n",
    "import numpy as np\n",
    "import pandas as pd\n",
    "import matplotlib.pyplot as plt\n",
    "import sklearn.neural_network\n",
    "import sklearn.model_selection\n",
    "import torch\n",
    "from torchvision.transforms import v2\n",
    "import torchvision.models as models\n",
    "from PIL import Image\n"
   ]
  },
  {
   "cell_type": "markdown",
   "metadata": {},
   "source": [
    "Load in data"
   ]
  },
  {
   "cell_type": "code",
   "execution_count": 2,
   "metadata": {},
   "outputs": [
    {
     "name": "stdout",
     "output_type": "stream",
     "text": [
      "(600, 784)\n"
     ]
    }
   ],
   "source": [
    "data_dir = os.path.abspath(\"data_fashion/\")\n",
    "\n",
    "train_x = pd.read_csv(os.path.join(data_dir, \"x_train.csv\")).to_numpy()\n",
    "train_y = pd.read_csv(os.path.join(data_dir, \"y_train.csv\")).to_numpy()[:,1].astype(np.int32)\n",
    "\n",
    "valid_x = pd.read_csv(os.path.join(data_dir, \"x_valid.csv\")).to_numpy()\n",
    "valid_y = pd.read_csv(os.path.join(data_dir, \"y_valid.csv\")).to_numpy()[:,1].astype(np.int32)\n",
    "\n",
    "test_x = pd.read_csv(os.path.join(data_dir, \"x_test.csv\")).to_numpy()\n",
    "\n",
    "print(test_x.shape)"
   ]
  },
  {
   "cell_type": "markdown",
   "metadata": {},
   "source": [
    "Function to Change to RGB tensor for pretrained model"
   ]
  },
  {
   "cell_type": "code",
   "execution_count": 3,
   "metadata": {},
   "outputs": [],
   "source": [
    "\n",
    "def toImage(image):\n",
    "\n",
    "        img = np.zeros((28, 28, 3), dtype=np.uint8)\n",
    "\n",
    "        for i in range(28):\n",
    "                row = image[(i*28):(i*28) + 28]\n",
    "\n",
    "                for j in range(len(row)):\n",
    "                        img[i][j][0] = np.uint8(row[j])\n",
    "                        img[i][j][1] = np.uint8(row[j])\n",
    "                        img[i][j][2] = np.uint8(row[j])\n",
    "        \n",
    "        pil_image = Image.fromarray(img)\n",
    "        # pil_image = pil_image.resize((224, 224))\n",
    "\n",
    "        return pil_image\n"
   ]
  },
  {
   "cell_type": "markdown",
   "metadata": {},
   "source": [
    "Change to Correct format (PIL images)"
   ]
  },
  {
   "cell_type": "code",
   "execution_count": 13,
   "metadata": {},
   "outputs": [],
   "source": [
    "\n",
    "train_x = np.apply_along_axis(toImage, axis=1, arr=train_x)\n",
    "test_x = np.apply_along_axis(toImage, axis=1, arr=test_x)\n",
    "valid_x = np.apply_along_axis(toImage, axis=1, arr=valid_x)\n",
    "\n"
   ]
  },
  {
   "cell_type": "markdown",
   "metadata": {},
   "source": [
    "Import the pretrained model and apply transformations that go along with corresponding weights"
   ]
  },
  {
   "cell_type": "code",
   "execution_count": 2,
   "metadata": {},
   "outputs": [
    {
     "ename": "",
     "evalue": "",
     "output_type": "error",
     "traceback": [
      "\u001b[1;31mThe Kernel crashed while executing code in the the current cell or a previous cell. Please review the code in the cell(s) to identify a possible cause of the failure. Click <a href='https://aka.ms/vscodeJupyterKernelCrash'>here</a> for more info. View Jupyter <a href='command:jupyter.viewOutput'>log</a> for further details."
     ]
    }
   ],
   "source": [
    "# def callModelOn(array):\n",
    "#         batch = torch.tensor(array)\n",
    "\n",
    "#         # # Get the model and corresponding weights\n",
    "#         # weights = models.MobileNet_V3_Large_Weights.IMAGENET1K_V2\n",
    "#         # pretrained_model = models.mobilenet_v3_large(weights=weights)\n",
    "#         # pretrained_model.eval()\n",
    "\n",
    "#         # # initialize transformation - transforms images to correct size\n",
    "#         # preprocess = weights.transforms()\n",
    "\n",
    "#         # # apply the transforms\n",
    "#         # batch = batch.apply(preprocess)\n",
    "\n",
    "#         # # call prediction\n",
    "#         # prediction = pretrained_model(batch)\n",
    "\n",
    "#         return np.array(batch)\n",
    "\n",
    "# batch = torch.tensor(toImage(train_x[0]))\n",
    "\n",
    "# # Get the model and corresponding weights\n",
    "weights = models.MobileNet_V3_Large_Weights.IMAGENET1K_V2\n",
    "pretrained_model = models.get_model(\"mobilenet_v3_large\", weights=weights)\n",
    "# pretrained_model.eval()\n",
    "\n",
    "# # initialize transformation - transforms images to correct size\n",
    "# preprocess = weights.transforms()\n",
    "\n",
    "# # apply the transforms\n",
    "# batch = batch.apply(preprocess)\n",
    "\n",
    "# # call prediction\n",
    "# prediction = pretrained_model(batch)\n",
    "\n"
   ]
  },
  {
   "cell_type": "code",
   "execution_count": 3,
   "metadata": {},
   "outputs": [
    {
     "ename": "NameError",
     "evalue": "name 'valid_x' is not defined",
     "output_type": "error",
     "traceback": [
      "\u001b[0;31m---------------------------------------------------------------------------\u001b[0m",
      "\u001b[0;31mNameError\u001b[0m                                 Traceback (most recent call last)",
      "\u001b[1;32m/Users/lkim/Desktop/Machine Learning - CS135/cs135-23f-assignments/image-classifier/problem2.ipynb Cell 12\u001b[0m line \u001b[0;36m1\n\u001b[0;32m----> <a href='vscode-notebook-cell:/Users/lkim/Desktop/Machine%20Learning%20-%20CS135/cs135-23f-assignments/image-classifier/problem2.ipynb#X22sZmlsZQ%3D%3D?line=0'>1</a>\u001b[0m calltest \u001b[39m=\u001b[39m callModelOn(valid_x)\n",
      "\u001b[0;31mNameError\u001b[0m: name 'valid_x' is not defined"
     ]
    }
   ],
   "source": [
    "calltest = callModelOn(valid_x)"
   ]
  },
  {
   "cell_type": "markdown",
   "metadata": {},
   "source": []
  }
 ],
 "metadata": {
  "kernelspec": {
   "display_name": "Python 3",
   "language": "python",
   "name": "python3"
  },
  "language_info": {
   "codemirror_mode": {
    "name": "ipython",
    "version": 3
   },
   "file_extension": ".py",
   "mimetype": "text/x-python",
   "name": "python",
   "nbconvert_exporter": "python",
   "pygments_lexer": "ipython3",
   "version": "3.10.12"
  }
 },
 "nbformat": 4,
 "nbformat_minor": 2
}
